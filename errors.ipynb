{
 "cells": [
  {
   "cell_type": "markdown",
   "metadata": {},
   "source": [
    "# Demonstration of how to use calculate_h_lte_C method which uses C stability and local truncation error to generate optimal timestep h"
   ]
  },
  {
   "cell_type": "code",
   "execution_count": 1,
   "metadata": {},
   "outputs": [],
   "source": [
    "from numerical_methods import *"
   ]
  },
  {
   "cell_type": "markdown",
   "metadata": {},
   "source": [
    "For the purposes of showing, we assume all the constants relating to the function $f(t, x(t))$ for\n",
    "$$x'(t)=f(t, x(t))$$\n",
    "are 1."
   ]
  },
  {
   "cell_type": "code",
   "execution_count": 2,
   "metadata": {},
   "outputs": [],
   "source": [
    "F = 1\n",
    "L = 1\n",
    "M = 1"
   ]
  },
  {
   "cell_type": "markdown",
   "metadata": {},
   "source": [
    "Time and approximation error constraints"
   ]
  },
  {
   "cell_type": "code",
   "execution_count": 3,
   "metadata": {},
   "outputs": [],
   "source": [
    "T = 1\n",
    "eps = 0.01"
   ]
  },
  {
   "cell_type": "markdown",
   "metadata": {},
   "source": [
    "Forward Euler\n",
    "$$\\begin{cases}y_{i+1} = y_i + hf(t_i, y_i) \\\\ y_0 = y(t_0)\\end{cases}$$\n",
    "$$C = 1 + hL$$\n",
    "$$\\tau = \\frac{h^2}{2} * \\|y^{(2)}\\| $$"
   ]
  },
  {
   "cell_type": "code",
   "execution_count": 4,
   "metadata": {},
   "outputs": [
    {
     "name": "stdout",
     "output_type": "stream",
     "text": [
      "Forward Euler h:  0.01174163818359375\n",
      "Global error bound:  0.009995029280696866\n"
     ]
    }
   ],
   "source": [
    "FE_C = forward_euler_C(L)\n",
    "FE_tau = forward_euler_tau(M)\n",
    "FE_h = calculate_h_lte_C(FE_tau, FE_C, T, eps)\n",
    "print(\"Forward Euler h: \", FE_h)\n",
    "print(\"Global error bound: \", calculate_global_error(FE_tau, FE_C, T, FE_h))"
   ]
  },
  {
   "cell_type": "markdown",
   "metadata": {},
   "source": [
    "Midpoint Method\n",
    "$$\\begin{cases}K1_i = f(t_i, y_i)\\\\K2_i = f(t_i+\\frac{h}{2}, y_i+\\frac{h}{2}K1_i)\\\\y_{i+1} = y_i + hK2_i\\\\y_0 = y(t_0)\\end{cases}$$\n",
    "$$C = 1 + hL + \\frac{h^2L^2}{2}$$\n",
    "$$\\tau = \\frac{h^3}{24}*f_{tt} + \\frac{h^3}{12}*f*f_{ty} + \\frac{h^3}{24}*f^2*f_{yy} + \\frac{h^3}{6}*(f_t+f*f_y)*f_y$$"
   ]
  },
  {
   "cell_type": "code",
   "execution_count": 5,
   "metadata": {},
   "outputs": [
    {
     "name": "stdout",
     "output_type": "stream",
     "text": [
      "Midpoint Method h:  0.052520751953125\n",
      "Global error bound:  0.00999970274731047\n"
     ]
    }
   ],
   "source": [
    "Mid_C = modified_and_midpoint_method_C(L)\n",
    "Mid_tau = midpoint_tau(F, L, M)\n",
    "Mid_h = calculate_h_lte_C(Mid_tau, Mid_C, T, eps)\n",
    "print(\"Midpoint Method h: \", Mid_h)\n",
    "print(\"Global error bound: \", calculate_global_error(Mid_tau, Mid_C, T, Mid_h))"
   ]
  },
  {
   "cell_type": "markdown",
   "metadata": {},
   "source": [
    "Modified Euler Method\n",
    "$$\\begin{cases}K1_i = f(t_i, y_i)\\\\K2_i = f(t_i+\\frac{h}{2}, y_i+\\frac{h}{2}K1_i)\\\\y_{i+1} = y_i + \\frac{h}{2}(K1_i+K2_i)\\\\y_0 = y(t_0)\\end{cases}$$\n",
    "$$C = 1 + hL + \\frac{h^2L^2}{2}$$\n",
    "$$\\tau = \\frac{h^3}{12}*f_{tt} + \\frac{h^3}{6}*f*f_{ty} + \\frac{h^3}{12}*f^2*f_{yy} + \\frac{h^3}{6}*(f_t+f*f_y)*f_y$$"
   ]
  },
  {
   "cell_type": "code",
   "execution_count": 6,
   "metadata": {},
   "outputs": [
    {
     "name": "stdout",
     "output_type": "stream",
     "text": [
      "Modified Euler Method h:  0.050567626953125\n",
      "Global error bound:  0.009992870752539908\n"
     ]
    }
   ],
   "source": [
    "Mod_C = modified_and_midpoint_method_C(L)\n",
    "Mod_tau = modified_tau(F, L, M)\n",
    "Mod_h = calculate_h_lte_C(Mod_tau, Mod_C, T, eps)\n",
    "print(\"Modified Euler Method h: \", Mod_h)\n",
    "print(\"Global error bound: \", calculate_global_error(Mod_tau, Mod_C, T, Mod_h))"
   ]
  }
 ],
 "metadata": {
  "interpreter": {
   "hash": "31f2aee4e71d21fbe5cf8b01ff0e069b9275f58929596ceb00d14d90e3e16cd6"
  },
  "kernelspec": {
   "display_name": "Python 3.9.2 64-bit",
   "language": "python",
   "name": "python3"
  },
  "language_info": {
   "codemirror_mode": {
    "name": "ipython",
    "version": 3
   },
   "file_extension": ".py",
   "mimetype": "text/x-python",
   "name": "python",
   "nbconvert_exporter": "python",
   "pygments_lexer": "ipython3",
   "version": "3.9.2"
  },
  "orig_nbformat": 4
 },
 "nbformat": 4,
 "nbformat_minor": 2
}
