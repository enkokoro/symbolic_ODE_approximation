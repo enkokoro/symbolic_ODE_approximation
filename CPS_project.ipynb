{
  "cells": [
    {
      "cell_type": "code",
      "execution_count": 9,
      "metadata": {
        "id": "mvQ_ZI5mKSJK"
      },
      "outputs": [],
      "source": [
        "import numpy as np\n",
        "import sympy"
      ]
    },
    {
      "cell_type": "markdown",
      "metadata": {
        "id": "uOXeg9HXM9Kc"
      },
      "source": [
        "Generic ODE one step method"
      ]
    },
    {
      "cell_type": "code",
      "execution_count": 45,
      "metadata": {
        "id": "8uZScb7DLP8R"
      },
      "outputs": [],
      "source": [
        "def ODE_onestep(f, x0, T, h, onestep):\n",
        "  N = int(np.ceil(T/h)) \n",
        "\n",
        "  xs = [x0]\n",
        "  ts = [0]\n",
        "\n",
        "  for i in range(N-1):\n",
        "    xs.append(onestep(f, ts[i], xs[i], h))\n",
        "    ts.append(ts[i] + h)\n",
        "\n",
        "  ts.append(T)\n",
        "  h_last = ts[-1] - ts[-2]\n",
        "  xs.append(xs[-2] + h_last*f(ts[-2], xs[-2]))\n",
        "  \n",
        "  return ts, xs"
      ]
    },
    {
      "cell_type": "markdown",
      "metadata": {
        "id": "uk3AIV62X0PB"
      },
      "source": [
        "Forward Euler Method"
      ]
    },
    {
      "cell_type": "code",
      "execution_count": 46,
      "metadata": {
        "id": "uUXgi6BnM7mE"
      },
      "outputs": [],
      "source": [
        "def forward_euler(f, x0, T, h):\n",
        "  def forward_euler_onestep(f, ti, xi, h):\n",
        "    return xi + h*f(ti, xi)\n",
        "\n",
        "  return ODE_onestep(f, x0, T, h, forward_euler_onestep)\n",
        "\n",
        "def forward_euler_h(M, T, eps):\n",
        "  # TODO"
      ]
    },
    {
      "cell_type": "code",
      "execution_count": null,
      "metadata": {
        "id": "hcli5T2Da_rj"
      },
      "outputs": [],
      "source": [
        "def runge_kutta_4(f, x0, T, h):\n",
        "  def rk4_onestep(f, ti, xi, h):\n",
        "    # TODO\n",
        "\n",
        "def runge_kutta_4_h(M, T, eps):\n",
        "  # TODO"
      ]
    },
    {
      "cell_type": "code",
      "execution_count": 34,
      "metadata": {
        "colab": {
          "base_uri": "https://localhost:8080/",
          "height": 287
        },
        "id": "XUKggwnRNflY",
        "outputId": "2a941c64-7fb6-4ace-bfe4-f7749460aab9"
      },
      "outputs": [
        {
          "data": {
            "text/plain": [
              "[<matplotlib.lines.Line2D at 0x7f982e3d2390>]"
            ]
          },
          "execution_count": 34,
          "metadata": {},
          "output_type": "execute_result"
        },
        {
          "data": {
            "image/png": "[encoded data removed]",
            "text/plain": [
              "<Figure size 432x288 with 1 Axes>"
            ]
          },
          "metadata": {
            "needs_background": "light"
          },
          "output_type": "display_data"
        }
      ],
      "source": [
        "import matplotlib.pyplot as plt\n",
        "\n",
        "plt.plot(ts, xs, 'o')\n",
        "plt.plot(ts, 0.5*np.exp(ts))"
      ]
    },
    {
      "cell_type": "code",
      "execution_count": 47,
      "metadata": {
        "id": "Ewkpj5EVMvrd"
      },
      "outputs": [],
      "source": [
        "_x0 = sympy.symbols(\"_x0\")\n",
        "ts, xs = forward_euler(lambda *input: input[1], _x0, 2, 0.1)\n",
        "_t = sympy.symbols(\"_t\")\n",
        "f_approx = sympy.interpolating_spline(1, _t, ts, xs)\n"
      ]
    },
    {
      "cell_type": "code",
      "execution_count": 52,
      "metadata": {
        "colab": {
          "base_uri": "https://localhost:8080/"
        },
        "id": "6mMrONfiVxoo",
        "outputId": "6185ccfe-f7b2-4a20-9d46-06c79a9567bb"
      },
      "outputs": [
        {
          "name": "stdout",
          "output_type": "stream",
          "text": [
            "Piecewise((11.0*_t*_x0 + 1.0*_x0*(1.0 - 10.0*_t), (_t >= 0) & (_t <= 0.1)), (1.1*_x0*(2.0 - 10.0*_t) + 1.21*_x0*(10.0*_t - 1.0), (_t >= 0.1) & (_t <= 0.2)), (1.21*_x0*(3.0 - 10.0*_t) + 1.331*_x0*(10.0*_t - 2.0), (_t >= 0.2) & (_t <= 0.3)), (1.331*_x0*(4.0 - 10.0*_t) + 1.4641*_x0*(10.0*_t - 3.0), (_t >= 0.3) & (_t <= 0.4)), (1.4641*_x0*(5.0 - 10.0*_t) + 1.61051*_x0*(10.0*_t - 4.0), (_t >= 0.4) & (_t <= 0.5)), (1.61051*_x0*(6.0 - 10.0*_t) + 1.771561*_x0*(10.0*_t - 5.0), (_t >= 0.5) & (_t <= 0.6)), (1.771561*_x0*(7.0 - 10.0*_t) + 1.9487171*_x0*(10.0*_t - 6.0), (_t >= 0.6) & (_t <= 0.7)), (1.9487171*_x0*(8.0 - 10.0*_t) + 2.14358881*_x0*(10.0*_t - 7.0), (_t >= 0.7) & (_t <= 0.8)), (2.14358881*_x0*(9.0 - 10.0*_t) + 2.357947691*_x0*(10.0*_t - 8.0), (_t >= 0.8) & (_t <= 0.9)), (2.357947691*_x0*(10.0 - 10.0*_t) + 2.5937424601*_x0*(10.0*_t - 9.0), (_t >= 0.9) & (_t <= 1.0)), (2.5937424601*_x0*(11.0 - 10.0*_t) + 2.85311670611*_x0*(10.0*_t - 10.0), (_t >= 1.0) & (_t <= 1.1)), (2.85311670611*_x0*(12.0 - 9.99999999999999*_t) + 3.138428376721*_x0*(9.99999999999999*_t - 11.0), (_t >= 1.1) & (_t <= 1.2)), (3.138428376721*_x0*(13.0 - 9.99999999999999*_t) + 3.4522712143931*_x0*(9.99999999999999*_t - 12.0), (_t >= 1.2) & (_t <= 1.3)), (3.4522712143931*_x0*(14.0 - 9.99999999999999*_t) + 3.79749833583241*_x0*(9.99999999999999*_t - 13.0), (_t >= 1.3) & (_t <= 1.4)), (3.79749833583241*_x0*(15.0 - 9.99999999999999*_t) + 4.17724816941565*_x0*(9.99999999999999*_t - 14.0), (_t >= 1.4) & (_t <= 1.5)), (4.17724816941565*_x0*(16.0 - 9.99999999999999*_t) + 4.59497298635722*_x0*(9.99999999999999*_t - 15.0), (_t >= 1.5) & (_t <= 1.6)), (4.59497298635722*_x0*(17.0 - 9.99999999999999*_t) + 5.05447028499294*_x0*(9.99999999999999*_t - 16.0), (_t >= 1.6) & (_t <= 1.7)), (5.05447028499294*_x0*(18.0 - 9.99999999999999*_t) + 5.55991731349223*_x0*(9.99999999999999*_t - 17.0), (_t >= 1.7) & (_t <= 1.8)), (5.55991731349223*_x0*(19.0 - 9.99999999999999*_t) + 6.11590904484146*_x0*(9.99999999999999*_t - 18.0), (_t >= 1.8) & (_t <= 1.9)), (6.11590904484146*_x0*(20.0000000000001 - 10.0000000000001*_t) + 6.11590904484145*_x0*(10.0000000000001*_t - 19.0000000000001), (_t >= 1.9) & (_t <= 2)))\n",
            "<function _lambdifygenerated at 0x7f98233bb290>\n"
          ]
        }
      ],
      "source": [
        "f_approx_fn = sympy.lambdify([_x0, _t], f_approx)\n",
        "print(f_approx)\n",
        "print(f_approx_fn)"
      ]
    },
    {
      "cell_type": "code",
      "execution_count": 66,
      "metadata": {
        "colab": {
          "base_uri": "https://localhost:8080/"
        },
        "id": "n5YZkUunTP4D",
        "outputId": "0c73176d-ae50-461c-c7a7-77b848a2040b"
      },
      "outputs": [
        {
          "name": "stdout",
          "output_type": "stream",
          "text": [
            "[1.09926248 0.36642083]\n",
            "[1.089 0.363]\n"
          ]
        }
      ],
      "source": [
        "x0 = np.array([0.9, 0.3])\n",
        "t = 0.2\n",
        "print(x0*np.exp(t))\n",
        "print(f_approx_fn(x0, t))"
      ]
    },
    {
      "cell_type": "markdown",
      "metadata": {
        "id": "PwODvTA_ahSi"
      },
      "source": [
        "Discretely approximates x' = f(x) and then uses spline approximation to create continuous approximation of the solution.\n",
        "\n",
        "\n"
      ]
    },
    {
      "cell_type": "code",
      "execution_count": 61,
      "metadata": {
        "id": "o8v6FZLKAr-3"
      },
      "outputs": [],
      "source": [
        "def approximation(f, T, eps=1e-5, num_method=forward_euler, spline_deg=1):\n",
        "  \"\"\" \n",
        "    symbolic function approximation to solution of\n",
        "    x'(t) = f(t, x) for 0 <= t <= T\n",
        "\n",
        "    inputs\n",
        "    f: RHS function of diff eq\n",
        "    T: maximum time\n",
        "    eps: global error\n",
        "    num_method: numerical method used for calculating discrete ODE approximation \n",
        "    approx_method: method used for converting discrete approximation to continuous approximation\n",
        "\n",
        "    output\n",
        "    x_approx(x0, t): function which approximates solution to x'(t) = f(t, x) within eps\n",
        "  \"\"\"\n",
        "  M = 1\n",
        "  h = 0.1 # calculate_h(M, T, eps, num_method)\n",
        "  _x0 = sympy.symbols(\"_x0\")\n",
        "  ts, xs = num_method(f, _x0, T, h)\n",
        "\n",
        "  _t = sympy.symbols(\"_t\")\n",
        "  f_approx = sympy.interpolating_spline(spline_deg, _t, ts, xs)\n",
        "\n",
        "  return sympy.lambdify([_x0, _t], f_approx)\n"
      ]
    },
    {
      "cell_type": "code",
      "execution_count": 63,
      "metadata": {
        "id": "WfDW6c5NY5IY"
      },
      "outputs": [],
      "source": [
        "def f(t, x):\n",
        "  return x\n",
        "f_approx_fn = approximation(f, 1)"
      ]
    },
    {
      "cell_type": "code",
      "execution_count": 65,
      "metadata": {
        "colab": {
          "base_uri": "https://localhost:8080/"
        },
        "id": "tgPXCNgQZKGf",
        "outputId": "a2046377-9659-4941-b575-5865182cfcfa"
      },
      "outputs": [
        {
          "name": "stdout",
          "output_type": "stream",
          "text": [
            "1.4838491436301153\n",
            "1.449459\n"
          ]
        }
      ],
      "source": [
        "x0 = 0.9\n",
        "t = 0.5\n",
        "print(x0*np.exp(t))\n",
        "print(f_approx_fn(x0, t))"
      ]
    },
    {
      "cell_type": "code",
      "execution_count": 4,
      "metadata": {
        "id": "olYpCHApZf0O"
      },
      "outputs": [],
      "source": [
        "class SyntaxError():\n",
        "  def __init__(self, s: str, column: int):\n",
        "      self.s = s\n",
        "      self.column = column \n",
        "\n",
        "  def __str__(self) -> str:\n",
        "      return self.__name__+ \" at character \" + self.column + \" in \" + self.s\n",
        "\n",
        "class MissingBracket(SyntaxError):\n",
        "    pass\n"
      ]
    },
    {
      "cell_type": "code",
      "execution_count": 68,
      "metadata": {
        "colab": {
          "base_uri": "https://localhost:8080/",
          "height": 166
        },
        "id": "MVs7MilWcOBU",
        "outputId": "8f0288e9-4072-49cd-e225-0620ebd74c33"
      },
      "outputs": [
        {
          "ename": "NameError",
          "evalue": "ignored",
          "output_type": "error",
          "traceback": [
            "\u001b[0;31m---------------------------------------------------------------------------\u001b[0m",
            "\u001b[0;31mNameError\u001b[0m                                 Traceback (most recent call last)",
            "\u001b[0;32m<ipython-input-68-670047e301af>\u001b[0m in \u001b[0;36m<module>\u001b[0;34m()\u001b[0m\n\u001b[0;32m----> 1\u001b[0;31m \u001b[0;32mraise\u001b[0m \u001b[0mMissingOpeningBracket\u001b[0m\u001b[0;34m(\u001b[0m\u001b[0;34m)\u001b[0m\u001b[0;34m\u001b[0m\u001b[0;34m\u001b[0m\u001b[0m\n\u001b[0m",
            "\u001b[0;31mNameError\u001b[0m: name 'MissingOpeningBracket' is not defined"
          ]
        }
      ],
      "source": [
        "def ODE_parser(ODE):\n",
        "  \"\"\"\n",
        "  { t' = 1, x' = f(t, x), y' = g(t, x, y) & t < T}\n",
        "  \"\"\"\n",
        "  ODE = ODE.replace(\" \", \"\")\n",
        "  if ODE[0] != \"{\":\n",
        "    raise MissingBracket(ODE, 0)\n",
        "  if ODE[-1] != \"}\":\n",
        "    raise MissingBracket(ODE, len(ODE)-1)\n",
        "  \n",
        "  if \"&\" not in ODE\n",
        "  a = ODE.index(\"&\")\n",
        "  if indexOf()\n",
        "  \n",
        "  f_str = ODE[ODE.find(\"{\"), ODE.]\n",
        "  f_str\n",
        "  f_expr = sympy.sympify(f_str)\n",
        "  f = sympy.lambdify([sympy.symbols(\"t\"), sympy.symbols(\"x\")], expr)\n",
        "\n",
        "ODE_parser(\"\")"
      ]
    },
    {
      "cell_type": "code",
      "execution_count": 59,
      "metadata": {
        "colab": {
          "base_uri": "https://localhost:8080/"
        },
        "id": "98-wm7iXRwfC",
        "outputId": "0f307688-b098-44b9-bda1-fcb8024c2d9a"
      },
      "outputs": [
        {
          "name": "stdout",
          "output_type": "stream",
          "text": [
            "10.5\n"
          ]
        }
      ],
      "source": [
        "str_expr = \"x**2 + t + 3*x - 1/2\"\n",
        "expr = sympy.sympify(str_expr)\n",
        "f = sympy.lambdify([sympy.symbols(\"t\"), sympy.symbols(\"x\")], expr)\n",
        "print(f(1, 2))"
      ]
    }
  ],
  "metadata": {
    "colab": {
      "collapsed_sections": [],
      "name": "CPS_project.ipynb",
      "provenance": []
    },
    "kernelspec": {
      "display_name": "Python 3",
      "name": "python3"
    },
    "language_info": {
      "codemirror_mode": {
        "name": "ipython",
        "version": 3
      },
      "file_extension": ".py",
      "mimetype": "text/x-python",
      "name": "python",
      "nbconvert_exporter": "python",
      "pygments_lexer": "ipython3",
      "version": "3.9.2"
    }
  },
  "nbformat": 4,
  "nbformat_minor": 0
}
