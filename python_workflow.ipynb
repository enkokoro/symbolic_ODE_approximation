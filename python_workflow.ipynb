{
 "cells": [
  {
   "cell_type": "markdown",
   "metadata": {},
   "source": [
    "# Example ODE Approx Python Workflow\n"
   ]
  },
  {
   "cell_type": "code",
   "execution_count": 1,
   "metadata": {},
   "outputs": [],
   "source": [
    "from approximation import ODE_approx\n",
    "from numerical_methods import forward_euler_h\n",
    "\n",
    "import matplotlib.pyplot as plt\n",
    "import numpy as np"
   ]
  },
  {
   "cell_type": "markdown",
   "metadata": {},
   "source": [
    "Assume differential equation\n",
    "$$\\{ x' = f(t, x) \\& t \\le T \\}$$\n",
    "is given as a python function f and T is a python variable. L and M are the maximum magnitude of the first and second derivative of the function F over the time range and are also given as a python variable.\n",
    "\n",
    "The following example corresponds to the differential equation\n",
    "$$\\{ x' = -x \\& t \\le 1 \\}$$\n",
    "where $t' = 1$ is considered implicitly in the differential equation. "
   ]
  },
  {
   "cell_type": "code",
   "execution_count": 9,
   "metadata": {},
   "outputs": [],
   "source": [
    "def f(t, x):\n",
    "      return -2*x\n",
    "def x_actual(x0, t):\n",
    "      return x0*np.exp(-2*t)\n",
    "M = 4\n",
    "L = 2\n",
    "T = 1\n",
    "# if we want to ensure that the error is within epsilon, we can calculate the timestep h \n",
    "# however, to better see the linear interpolation, we will manually set a large h\n",
    "# eps = 0.1\n",
    "# h = forward_euler_h(M, L, T, eps)\n",
    "# f_approx_fn = ODE_approx(f, 1, M, L, T, eps=eps)\n",
    "h = 0.2\n",
    "f_approx_fn = ODE_approx(f, 1, M, L, T, h=h)"
   ]
  },
  {
   "cell_type": "markdown",
   "metadata": {},
   "source": [
    "Sample x_actual [denoting the actual solution to the differential equation] and f_approx_fn for a given time and given initial value. The following demonstrates the syntax of the resulting approximating function which is in general of the form ODE_approx_fn(list_of_initial_values, time)."
   ]
  },
  {
   "cell_type": "code",
   "execution_count": 12,
   "metadata": {},
   "outputs": [
    {
     "name": "stdout",
     "output_type": "stream",
     "text": [
      "h forward_euler:  0.014007454012720095\n",
      "h:  0.2\n",
      "x_actual:  3.6787944117144233\n",
      "x_approx:  [array(2.88)]\n"
     ]
    }
   ],
   "source": [
    "x0 = 10\n",
    "t0 = 0.5\n",
    "print(\"h forward_euler: \", forward_euler_h(M, L, T, 0.1))\n",
    "print(\"h: \", h)\n",
    "print(\"x_actual: \", x_actual(x0, t0))\n",
    "print(\"x_approx: \", f_approx_fn([x0], t0))"
   ]
  },
  {
   "cell_type": "markdown",
   "metadata": {},
   "source": [
    "Plot the x_actual function and the function found via linear interpolation for a fine grid of time to visualize the error of the approximation."
   ]
  },
  {
   "cell_type": "code",
   "execution_count": 11,
   "metadata": {},
   "outputs": [
    {
     "name": "stdout",
     "output_type": "stream",
     "text": [
      "0.8793009304423385\n"
     ]
    },
    {
     "data": {
      "image/png": "[encoded data removed]",
      "text/plain": [
       "<Figure size 432x288 with 1 Axes>"
      ]
     },
     "metadata": {
      "needs_background": "light"
     },
     "output_type": "display_data"
    }
   ],
   "source": [
    "tt = np.linspace(0, T)\n",
    "xx_actual = [x_actual(x0, t) for t in tt]\n",
    "xx_approx = [f_approx_fn([x0], t)[0] for t in tt]\n",
    "plt.plot(tt, xx_actual, label=\"actual\")\n",
    "plt.plot(tt, xx_approx, label=\"approx\")\n",
    "plt.legend()\n",
    "print(max(abs(np.array(xx_actual)-np.array(xx_approx))))"
   ]
  }
 ],
 "metadata": {
  "interpreter": {
   "hash": "31f2aee4e71d21fbe5cf8b01ff0e069b9275f58929596ceb00d14d90e3e16cd6"
  },
  "kernelspec": {
   "display_name": "Python 3.9.2 64-bit",
   "language": "python",
   "name": "python3"
  },
  "language_info": {
   "codemirror_mode": {
    "name": "ipython",
    "version": 3
   },
   "file_extension": ".py",
   "mimetype": "text/x-python",
   "name": "python",
   "nbconvert_exporter": "python",
   "pygments_lexer": "ipython3",
   "version": "3.9.2"
  },
  "orig_nbformat": 4
 },
 "nbformat": 4,
 "nbformat_minor": 2
}
